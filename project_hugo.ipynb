{
 "cells": [
  {
   "cell_type": "markdown",
   "id": "124e5672",
   "metadata": {},
   "source": [
    "# Custom Chatbot Project"
   ]
  },
  {
   "cell_type": "markdown",
   "id": "2a4a94b3",
   "metadata": {},
   "source": [
    "TODO: In this cell, write an explanation of which dataset you have chosen and why it is appropriate for this task\n",
    "\n",
    "I wanted to work with a CSV dataset, and this one on \"2023 fashion trends\" seemed like a good fit. It has reports and descriptions of trends, which makes it useful for answering fashion-related questions with more specific details. This way, the chatbot can give answers based on real examples instead of just general trends.  \n",
    " \n"
   ]
  },
  {
   "cell_type": "markdown",
   "id": "a63d4c5f",
   "metadata": {},
   "source": [
    "## Data Wrangling\n",
    "\n",
    "TODO: In the cells below, load your chosen dataset into a `pandas` dataframe with a column named `\"text\"`. This column should contain all of your text data, separated into at least 20 rows."
   ]
  },
  {
   "cell_type": "code",
   "execution_count": 1,
   "id": "c69b83a1",
   "metadata": {},
   "outputs": [],
   "source": [
    "# Import all libraries\n",
    "import openai\n",
    "import pandas as pd\n",
    "import numpy as np\n",
    "import requests\n",
    "from dateutil.parser import parse\n",
    "from openai.embeddings_utils import get_embedding, distances_from_embeddings\n",
    "import tiktoken\n",
    "\n",
    "\n",
    "openai.api_base = \"https://openai.vocareum.com/v1\"\n",
    "openai.api_key = \"YOUR API KEY\""
   ]
  },
  {
   "cell_type": "code",
   "execution_count": 2,
   "id": "0a595980",
   "metadata": {},
   "outputs": [
    {
     "name": "stdout",
     "output_type": "stream",
     "text": [
      "First 5 rows after cleaning:\n",
      "                                                  URL  \\\n",
      "0  https://www.refinery29.com/en-us/fashion-trend...   \n",
      "1  https://www.refinery29.com/en-us/fashion-trend...   \n",
      "2  https://www.refinery29.com/en-us/fashion-trend...   \n",
      "3  https://www.refinery29.com/en-us/fashion-trend...   \n",
      "4  https://www.refinery29.com/en-us/fashion-trend...   \n",
      "\n",
      "                                                text  \\\n",
      "0   – 2023 Fashion Trend: Red. Glossy red hues to...   \n",
      "1   – 2023 Fashion Trend: Cargo Pants. Utilitaria...   \n",
      "2  2023 Fashion Trend: Sheer Clothing. \"Bare it a...   \n",
      "3   – 2023 Fashion Trend: Denim Reimagined. From ...   \n",
      "4  2023 Fashion Trend: Shine For The Daytime. The...   \n",
      "\n",
      "                                              Source  \n",
      "0  7 Fashion Trends That Will Take Over 2023 — Sh...  \n",
      "1  7 Fashion Trends That Will Take Over 2023 — Sh...  \n",
      "2  7 Fashion Trends That Will Take Over 2023 — Sh...  \n",
      "3  7 Fashion Trends That Will Take Over 2023 — Sh...  \n",
      "4  7 Fashion Trends That Will Take Over 2023 — Sh...  \n"
     ]
    }
   ],
   "source": [
    "# Load fashion dataset\n",
    "dataset_path = \"data/2023_fashion_trends.csv\"  \n",
    "df = pd.read_csv(dataset_path)\n",
    "df = df.rename(columns={\"Trends\": \"text\"}) \n",
    "\n",
    "# Clean up text: Remove empty lines & headings\n",
    "df = df[(df[\"text\"].str.len() > 0) & (~df[\"text\"].str.startswith(\"==\"))]\n",
    "\n",
    "# In some cases, dates are used as headings instead of being part of the text sample\n",
    "# Adjust so that dated text samples start with dates\n",
    "prefix = \"\"\n",
    "for i, row in df.iterrows():\n",
    "    if \" – \" not in row[\"text\"]:  \n",
    "        try:\n",
    "            parse(row[\"text\"])  \n",
    "            prefix = row[\"text\"]  \n",
    "        except:\n",
    "            row[\"text\"] = prefix + \" – \" + row[\"text\"]  \n",
    "\n",
    "df = df[df[\"text\"].str.contains(\" – \")].reset_index(drop=True)\n",
    "print(\"First 5 rows after cleaning:\\n\", df.head())\n"
   ]
  },
  {
   "cell_type": "code",
   "execution_count": 3,
   "id": "acb3a9fd",
   "metadata": {},
   "outputs": [
    {
     "name": "stdout",
     "output_type": "stream",
     "text": [
      "Sample Text Data:\n",
      " 0     – 2023 Fashion Trend: Red. Glossy red hues to...\n",
      "1     – 2023 Fashion Trend: Cargo Pants. Utilitaria...\n",
      "2    2023 Fashion Trend: Sheer Clothing. \"Bare it a...\n",
      "3     – 2023 Fashion Trend: Denim Reimagined. From ...\n",
      "4    2023 Fashion Trend: Shine For The Daytime. The...\n",
      "Name: text, dtype: object\n"
     ]
    }
   ],
   "source": [
    "# Check dataset length (at least teh 20 rows are in this dataset)\n",
    "if len(df) < 20:\n",
    "    raise ValueError(\"Dataset must have at least 20 rows of text data.\")\n",
    "print(\"Sample Text Data:\\n\", df[\"text\"].head())"
   ]
  },
  {
   "cell_type": "markdown",
   "id": "ae769871",
   "metadata": {},
   "source": [
    "## Custom Query Completion\n",
    "\n",
    "TODO: In the cells below, compose a custom query using your chosen dataset and retrieve results from an OpenAI `Completion` model. You may copy and paste any useful code from the course materials."
   ]
  },
  {
   "cell_type": "code",
   "execution_count": 4,
   "id": "582f0656",
   "metadata": {},
   "outputs": [],
   "source": [
    "# Generate embeddings using OpenAI’s embedding model\n",
    "EMBEDDING_MODEL_NAME = \"text-embedding-ada-002\"\n",
    "batch_size = 100\n",
    "embeddings = []\n",
    "\n",
    "for i in range(0, len(df), batch_size):\n",
    "    response = openai.Embedding.create(\n",
    "        input=df.iloc[i:i+batch_size][\"text\"].tolist(),\n",
    "        engine=EMBEDDING_MODEL_NAME\n",
    "    )\n",
    "    embeddings.extend([data[\"embedding\"] for data in response[\"data\"]])\n",
    "\n",
    "df[\"embeddings\"] = embeddings\n",
    "df.to_csv(\"data/embedded_dataset.csv\", index=False)\n"
   ]
  },
  {
   "cell_type": "code",
   "execution_count": 5,
   "id": "8b6e1f75",
   "metadata": {},
   "outputs": [],
   "source": [
    "def get_rows_sorted_by_relevance(question, df):\n",
    "    question_embedding = get_embedding(question, engine=EMBEDDING_MODEL_NAME)\n",
    "    df_copy = df.copy()\n",
    "    df_copy[\"distances\"] = distances_from_embeddings(\n",
    "        question_embedding, df_copy[\"embeddings\"].values, distance_metric=\"cosine\"\n",
    "    )\n",
    "    return df_copy.sort_values(\"distances\", ascending=True)\n"
   ]
  },
  {
   "cell_type": "code",
   "execution_count": 6,
   "id": "13f2dcd7",
   "metadata": {
    "scrolled": true
   },
   "outputs": [
    {
     "name": "stdout",
     "output_type": "stream",
     "text": [
      "                                                  URL  \\\n",
      "2   https://www.refinery29.com/en-us/fashion-trend...   \n",
      "4   https://www.refinery29.com/en-us/fashion-trend...   \n",
      "63  https://www.whowhatwear.com/spring-summer-2023...   \n",
      "0   https://www.refinery29.com/en-us/fashion-trend...   \n",
      "44  https://www.whowhatwear.com/spring-summer-2023...   \n",
      "\n",
      "                                                 text  \\\n",
      "2   2023 Fashion Trend: Sheer Clothing. \"Bare it a...   \n",
      "4   2023 Fashion Trend: Shine For The Daytime. The...   \n",
      "63   – \"Every season, there is a trend that speaks...   \n",
      "0    – 2023 Fashion Trend: Red. Glossy red hues to...   \n",
      "44   – I get it. Some of the trends on this list m...   \n",
      "\n",
      "                                               Source  \\\n",
      "2   7 Fashion Trends That Will Take Over 2023 — Sh...   \n",
      "4   7 Fashion Trends That Will Take Over 2023 — Sh...   \n",
      "63  Spring/Summer 2023 Fashion Trends: 21 Expert-A...   \n",
      "0   7 Fashion Trends That Will Take Over 2023 — Sh...   \n",
      "44  Spring/Summer 2023 Fashion Trends: 21 Expert-A...   \n",
      "\n",
      "                                           embeddings  distances  \n",
      "2   [-0.010447818785905838, -0.019223986193537712,...   0.124630  \n",
      "4   [-0.004996250383555889, 0.0018084070179611444,...   0.128176  \n",
      "63  [-0.01105300709605217, -0.01701289601624012, 0...   0.132785  \n",
      "0   [-0.019675446674227715, -0.02092238888144493, ...   0.137251  \n",
      "44  [-0.021353915333747864, -0.008380169980227947,...   0.137269  \n"
     ]
    }
   ],
   "source": [
    "query = \"What are the top fashion trends in 2023?\"\n",
    "relevant_results = get_rows_sorted_by_relevance(query, df)\n",
    "print(relevant_results.head())"
   ]
  },
  {
   "cell_type": "code",
   "execution_count": 7,
   "id": "c403f543",
   "metadata": {},
   "outputs": [],
   "source": [
    "COMPLETION_MODEL_NAME = \"gpt-3.5-turbo-instruct\"\n",
    "\n",
    "def create_prompt(question, df, max_token_count=1800):\n",
    "    tokenizer = tiktoken.get_encoding(\"cl100k_base\")\n",
    "    prompt_template = \"\"\"\n",
    "Answer the question based on the context below, and if the question\n",
    "can't be answered based on the context, say \"I don't know.\"\n",
    "\n",
    "Context: \n",
    "\n",
    "{}\n",
    "\n",
    "---\n",
    "\n",
    "Question: {}\n",
    "Answer:\n",
    "\"\"\"\n",
    "    current_token_count = len(tokenizer.encode(prompt_template)) + len(tokenizer.encode(question))\n",
    "    context = []\n",
    "    for text in get_rows_sorted_by_relevance(question, df)[\"text\"].values:\n",
    "        text_token_count = len(tokenizer.encode(text))\n",
    "        current_token_count += text_token_count\n",
    "        if current_token_count <= max_token_count:\n",
    "            context.append(text)\n",
    "        else:\n",
    "            break\n",
    "\n",
    "    return prompt_template.format(\"\\n\\n###\\n\\n\".join(context), question)\n"
   ]
  },
  {
   "cell_type": "markdown",
   "id": "1783f146",
   "metadata": {},
   "source": [
    "## Custom Performance Demonstration\n",
    "\n",
    "TODO: In the cells below, demonstrate the performance of your custom query using at least 2 questions. For each question, show the answer from a basic `Completion` model query as well as the answer from your custom query."
   ]
  },
  {
   "cell_type": "markdown",
   "id": "4f11fdc0",
   "metadata": {},
   "source": [
    "### Question 1"
   ]
  },
  {
   "cell_type": "code",
   "execution_count": 8,
   "id": "4901c850",
   "metadata": {},
   "outputs": [
    {
     "name": "stdout",
     "output_type": "stream",
     "text": [
      "Basic Completion Model Answer:\n",
      "1. Sustainability: As the fashion industry becomes more conscious of its environmental impact, sustainability will continue to be a dominant trend in 2023. This includes using eco-friendly materials, implementing ethical production practices, and promoting circular fashion.\n",
      "\n",
      "2. Retro and Vintage Revival: Nostalgia for past decades will continue to influence fashion trends in 2023. Expect to see a resurgence of 70s bohemian style, 80s power dressing, and 90s grunge fashion.\n",
      "\n",
      "3. Bold Colors and Prints: Bright, bold colors and statement prints will make a comeback in 2023. From floral patterns to geometric designs, expect to see eye-catching prints and patterns on everything from clothing to accessories.\n",
      "\n",
      "4. Athle\n"
     ]
    }
   ],
   "source": [
    "question1 = \"What are the top fashion trends in 2023?\"\n",
    "\n",
    "print(\"Basic Completion Model Answer:\")\n",
    "basic_answer1 = openai.Completion.create(\n",
    "    model=\"gpt-3.5-turbo-instruct\",\n",
    "    prompt=question1,\n",
    "    max_tokens=150\n",
    ")[\"choices\"][0][\"text\"].strip()\n",
    "print(basic_answer1)"
   ]
  },
  {
   "cell_type": "code",
   "execution_count": 9,
   "id": "bd7a093b",
   "metadata": {},
   "outputs": [
    {
     "name": "stdout",
     "output_type": "stream",
     "text": [
      "\n",
      "Custom Completion Model Answer:\n",
      "- Sheer Clothing\n",
      "- Shine for the Daytime\n",
      "- Red Hues\n",
      "- Denim Reimagined\n",
      "- Cobalt Blue\n",
      "- Elevated Basics\n",
      "- Maxi Skirts\n",
      "- Cargo Pants\n",
      "- Mesh\n",
      "- Green\n",
      "- Tailored Look\n",
      "- Indie Sleaze.\n"
     ]
    }
   ],
   "source": [
    "print(\"\\nCustom Completion Model Answer:\")\n",
    "custom_answer1 = openai.Completion.create(\n",
    "    model=\"gpt-3.5-turbo-instruct\",\n",
    "    prompt=create_prompt(question1, df),\n",
    "    max_tokens=150\n",
    ")[\"choices\"][0][\"text\"].strip()\n",
    "print(custom_answer1)"
   ]
  },
  {
   "cell_type": "markdown",
   "id": "6e86e37c",
   "metadata": {},
   "source": [
    "### Question 2"
   ]
  },
  {
   "cell_type": "code",
   "execution_count": 10,
   "id": "6f646989",
   "metadata": {},
   "outputs": [
    {
     "name": "stdout",
     "output_type": "stream",
     "text": [
      "Basic Completion Model Answer:\n",
      "1. Pastel shades: Soft and delicate pastel colors like lavender, baby blue, pale yellow, and mint green are expected to be popular in 2023. These colors give a calming and soothing vibe and will be seen in both clothing and accessories.\n",
      "\n",
      "2. Earthy tones: Rich and warm earthy tones like rust orange, mustard yellow, olive green, and burgundy will continue to dominate the fashion scene in 2023. These colors evoke a sense of nature and comfort, making them perfect for fall and winter fashion.\n",
      "\n",
      "3. Metallics: Metallic shades such as silver, gold, copper, and bronze will add a touch of glamour to fashion in 2023. These colors will be seen in both clothing and accessories,\n"
     ]
    }
   ],
   "source": [
    "question2 = \"What are the key colors trending in fashion for 2023?\"\n",
    "\n",
    "print(\"Basic Completion Model Answer:\")\n",
    "basic_answer2 = openai.Completion.create(\n",
    "    model=\"gpt-3.5-turbo-instruct\",\n",
    "    prompt=question2,\n",
    "    max_tokens=150\n",
    ")[\"choices\"][0][\"text\"].strip()\n",
    "print(basic_answer2)\n",
    "\n",
    "\n"
   ]
  },
  {
   "cell_type": "code",
   "execution_count": 11,
   "id": "11c07a54",
   "metadata": {},
   "outputs": [
    {
     "name": "stdout",
     "output_type": "stream",
     "text": [
      "\n",
      "Custom Completion Model Answer:\n",
      "Cobalt blue, red, lime green, saffron, and cherry red.\n"
     ]
    }
   ],
   "source": [
    "print(\"\\nCustom Completion Model Answer:\")\n",
    "custom_answer2 = openai.Completion.create(\n",
    "    model=\"gpt-3.5-turbo-instruct\",\n",
    "    prompt=create_prompt(question2, df),\n",
    "    max_tokens=150\n",
    ")[\"choices\"][0][\"text\"].strip()\n",
    "print(custom_answer2)\n"
   ]
  }
 ],
 "metadata": {
  "kernelspec": {
   "display_name": "Python 3 (ipykernel)",
   "language": "python",
   "name": "python3"
  },
  "language_info": {
   "codemirror_mode": {
    "name": "ipython",
    "version": 3
   },
   "file_extension": ".py",
   "mimetype": "text/x-python",
   "name": "python",
   "nbconvert_exporter": "python",
   "pygments_lexer": "ipython3",
   "version": "3.9.18"
  }
 },
 "nbformat": 4,
 "nbformat_minor": 5
}
